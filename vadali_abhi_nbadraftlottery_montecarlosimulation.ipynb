{
  "nbformat": 4,
  "nbformat_minor": 0,
  "metadata": {
    "colab": {
      "name": "vadali-abhi-nbadraftlottery-montecarlosimulation.ipynb",
      "provenance": [],
      "authorship_tag": "ABX9TyM4EhwZ4XEGKf6RztpzghWa",
      "include_colab_link": true
    },
    "kernelspec": {
      "name": "python3",
      "display_name": "Python 3"
    },
    "language_info": {
      "name": "python"
    }
  },
  "cells": [
    {
      "cell_type": "markdown",
      "metadata": {
        "id": "view-in-github",
        "colab_type": "text"
      },
      "source": [
        "<a href=\"https://colab.research.google.com/github/abhivadali13/2021_Spring_finals/blob/main/vadali_abhi_nbadraftlottery_montecarlosimulation.ipynb\" target=\"_parent\"><img src=\"https://colab.research.google.com/assets/colab-badge.svg\" alt=\"Open In Colab\"/></a>"
      ]
    },
    {
      "cell_type": "markdown",
      "metadata": {
        "id": "iHW3Cbr-peQV"
      },
      "source": [
        "IS597PR Final Projects – Spring 2021\n",
        "\n",
        "Due Dates: \n",
        "\n",
        "By Apr 2 = proposal in Moodle forum; Presentations in class or pre-recorded Apr26 & May 3\n",
        "along with draft-stage completion; Peer voting on projects open May 3-5; May 10 @ noon=All finalized\n",
        "files in GitHub for grading.\n",
        "\n",
        "Overview and High-Level Requirements:\n",
        "Many previous students have done nice work, of which they and I were proud. In a few cases, their\n",
        "projects and this course directly helped them get a job. You have an even wider range of choices\n",
        "available than most earlier semesters, so just avoid the pitfalls, apply yourselves the best you can and\n",
        "try to have some fun with it.\n",
        "1. You may choose to work as teams of 1, 2, or 3 students. Multi-member teams must clearly show\n",
        "collaboration from every member and are expected to perform at a proportionally-increased level\n",
        "of complexity, sophistication, depth, and/or scope to earn a high grade. Projects will be evaluated\n",
        "and graded as a teamwork product. You must work together, and hold each other accountable for\n",
        "contributions, quality, and ethical behavior. If there’s a problem early on (such as someone insists\n",
        "on plagiarizing, notify the instructor immediately).\n",
        "2. Select from one of these TYPES of analytics projects to implement in Python:\n",
        "\n",
        "  I. Your original Monte Carlo simulation\n",
        "\n",
        "3. Do not choose a statistical Machine Learning-focused project. Enroll in Machine Learning Team\n",
        "Projects if that interests you. Thus, packages such as sklearn, PyTorch and TensorFlow and similar\n",
        "should not be used here. NLP-focused projects are also out of scope.\n",
        "4. You must submit your original unique work, created specifically for 597PR. If the project is related\n",
        "to work you did earlier or are now doing for any other course or a job, then you must get prior\n",
        "written approval from all the relevant instructors and the supervisor. Not doing so is subject to\n",
        "sanctions per the Student Code.\n",
        "5. PROPOSAL Stage. Post your summary into Moodle’s “Final Project Topic Proposals” forum. See\n",
        "expected information there.\n",
        "6. CITE ALL YOUR SOURCES! Any citation style is fine, but make sure you do it and do so continuously,\n",
        "not just at the very end. Students who have used code or other material without indicating its true\n",
        "source AND clearly delineating which parts are not original will be reported to the iSchool & UI\n",
        "Grad College through FAIR. If the review confirms plagiarism, the sanction is reduced grade\n",
        "(dependent on scope) with a course grade of F for significant cases, regardless of your previous\n",
        "scores. \n",
        "7. Unlike all other assignments in 597PR, you are allowed and expected to openly publish your unique\n",
        "project work. You may consider it part of your student portfolio, link it from resume, etc. Typically,\n",
        "this is done on Github.com since you’ll be committing there as work proceeds. Make sure\n",
        "everything you put there is work you’ll be proud of. At every commit, you should be verifying\n",
        "citations for all code, data, etc. Remember every commit is a “version” of the project and is public.\n",
        "It is expected to be a FORK from here: https://github.com/iSchool-597PR/2021Spring_finals\n",
        "8. Draft Stage & Peer Reviews: The program and documentation should be sufficiently operational for\n",
        "meaningful and beneficial peer code review, but does not have to be 100% finished. Make sure\n",
        "your GitHub repository is up to date with all the work you’ve done so far (code, documentation,\n",
        "example outputs). It’s okay if there are some final scenario explorations or even minor flaws left to\n",
        "resolve in your project at this stage, but you want constructive feedback from others. All students\n",
        "will also be submitting evaluations about other teams’ projects, details will be given in class.\n",
        "9. Presentations: You will create and deliver a presentation to the class (either live in Zoom or as prerecorded video in Illinois MediaSpace) that summarizes your project’s purpose, hypotheses, design\n",
        "reasoning, and results so far, possibly with a quick demo.\n",
        "10. Final submission expectations:\n",
        " Edit your README.md to create a good introduction and overview of the project, written\n",
        "with new visitors to your repository in mind. Summarize the conclusions you came up with,\n",
        "including how results are either supportive of or refute your hypotheses. You can embed\n",
        "images into the README file, if that is relevant.\n",
        " Use the “Factors in Code Quality and Code Reviews” like a checklist. Apply as many of the\n",
        "skills we’ve discussed this semester as applicable, to create the best quality program you\n",
        "can. Example expectations:\n",
        "i. Doctests and/or pyunit tests: 1-person team minimum 30% actual test coverage; 2-\n",
        "person minimum 50% actual test coverage; (3-person minimum 80% actual coverage\n",
        "AND use Travis-CI or GitHub Actions to automate the test suite during your\n",
        "development, not just after it's complete).\n",
        "ii. All functions, (methods included) need complete Docstrings. 1-person=minimum 4\n",
        "functions; 2-person=7+ functions; 3-person= 10+ functions\n",
        "iii. 3-person teams also should incorporate one of these efficiency techniques that will\n",
        "be discussed in class: Selective compilation (e.g. Numba or Cython); and/or parallel\n",
        "processing.\n",
        " Consider each hypothesis or alternative situation you proposed to investigate (you may\n",
        "have added more after feedback). Your program code should be able to run the simulation\n",
        "for all of the hypotheses just by changing top-level parameter values and/or through using\n",
        "different input data files -- do not hard-code such configuration aspects into the functions\n",
        "themselves"
      ]
    },
    {
      "cell_type": "markdown",
      "metadata": {
        "id": "ObyyWU8ApiU0"
      },
      "source": [
        "***(Type I projects) Specifics for Monte Carlo Simulations:***\n",
        "\n",
        " Design your own scenario -- make certain your simulation is original in some way(s).\n",
        " You can simulate an engineering or manufacturing problem, business/management\n",
        "situation, (certain types of) human behaviors, physical phenomena, or a game. To\n",
        "encourage original thinking, AVOID scenarios that have been done many times an\n",
        "Page 3\n",
        "discussed in class, such as : a \"random walk\" of stock prices, stock options, or similarly\n",
        "naïve financial “predictions”; a traffic simulation with just a few intersections or only one\n",
        "road; parking lots or parking meters; customer seating/dining at a restaurant or serving\n",
        "them at a counter; the games Tic-tac-toe, four*-in-a-row, Go-moku, chutes and ladders,\n",
        "Monopoly, Rock-Paper-Scissors, Blackjack, Poker. If you want to model a sports game or\n",
        "tournament, ask first, too many of these have been done already.\n",
        "\n",
        "You must have several well-chosen random variables in the model, to explore a variety of\n",
        "possible outcomes and derive the non-obvious probabilities of the overall model. Make\n",
        "sure you think carefully to choose appropriate ranges of values and a sensible distribution\n",
        "type for every randomized aspect. For example, if you simulate “number of swimmers in\n",
        "the pool” at each point in time as a uniform distribution, it’s wrong. If you simulate the\n",
        "individual finish times of all runners in a marathon as uniform, triangular, or even normal,\n",
        "it’s wrong. We’ll discuss this in class.\n",
        "\n",
        "  - i. 1-person teams must have at least 2 different kinds of randomized variables plus the\n",
        "deterministic aspects and control variables in the model. Most interesting\n",
        "simulations require more.\n",
        "  - ii. 2-person teams must have at least 3 different kinds …\n",
        "  - iii. 3-person teams must have at least 4 different kinds …\n",
        "\n",
        "Controls & Experiments: 1-person teams must have at least 1 hypothesis to test by running\n",
        "an experiment using the simulation in different modes to compare the results. Multi-person\n",
        "teams are expected to go further, typically testing multiple hypotheses with corresponding\n",
        "experiments, but variations can have other manifestations.\n",
        "\n",
        "If there is any relevant public data available, try to incorporate real data as part of your\n",
        "simulation model. For example, any useful sports simulation must use some real\n",
        "performance statistics about players and/or teams, so its randomized variables can be\n",
        "sampled from realistic ranges & distributions. If data you seek is not in downloadable form,\n",
        "you can still research the scenario to make realistic estimate"
      ]
    },
    {
      "cell_type": "markdown",
      "metadata": {
        "id": "i6CAAcPzrB8q"
      },
      "source": [
        "Source List:\n",
        "- https://www.geeksforgeeks.org/permutation-and-combination-in-python/\n",
        "- https://pypi.org/project/nba-api/\n",
        "- https://github.com/swar/nba_api/blob/master/docs/examples/Basics.ipynb\n",
        "- https://stackoverflow.com/questions/35532498/animation-in-ipython-notebook\n",
        "- https://pynative.com/python-random-randrange/#:~:text=Use%20randint()%20Generate%20random,8%20%2C9%2C%2010%5D\n",
        "- https://machinelearningmastery.com/discrete-probability-distributions-for-machine-learning/"
      ]
    },
    {
      "cell_type": "markdown",
      "metadata": {
        "id": "FKlOMX_Jpne9"
      },
      "source": [
        "# **NBA Draft Lottery: A Monte Carlo Simulation**"
      ]
    },
    {
      "cell_type": "markdown",
      "metadata": {
        "id": "4HTZjXs9psvb"
      },
      "source": [
        "## **Initial Set Up**"
      ]
    },
    {
      "cell_type": "code",
      "metadata": {
        "id": "szkLOapNpfi2"
      },
      "source": [
        "#importing the required libraries\n",
        "import os\n",
        "import pandas as pd\n",
        "import numpy as np\n",
        "import seaborn as sns\n",
        "import matplotlib.pyplot as plt\n",
        "from itertools import combinations, permutations\n",
        "from collections import Counter\n",
        "import random\n",
        "import requests\n",
        "import warnings\n",
        "import time\n",
        "\n",
        "from matplotlib import rc, animation\n",
        "rc('animation', html='html5')\n",
        "from ipywidgets import Image\n",
        "from IPython import display\n",
        "import scipy.stats as ss\n",
        "from google.colab import drive"
      ],
      "execution_count": 15,
      "outputs": []
    },
    {
      "cell_type": "code",
      "metadata": {
        "id": "pQCDiEAXpyw_"
      },
      "source": [
        "#mounting my drive on Google Colab\n",
        "drive.mount('/content/drive')"
      ],
      "execution_count": null,
      "outputs": []
    },
    {
      "cell_type": "code",
      "metadata": {
        "id": "kTyHfHiep1J3"
      },
      "source": [
        "#cd'ing into the folder for this project\n",
        "%cd \"/content/drive/MyDrive/IS 597PR: Programming for Analytics and Data Processing/Final Project\""
      ],
      "execution_count": null,
      "outputs": []
    },
    {
      "cell_type": "markdown",
      "metadata": {
        "id": "RzFoOJ39qI1u"
      },
      "source": [
        "## **Ping Pong Ball Combinations**\n",
        "\n",
        "The first step in our NBA Draft Lottery simulation is to create all the combinations of 4 balls selected from balls numbered 1-14"
      ]
    },
    {
      "cell_type": "code",
      "metadata": {
        "id": "cMdEMxypp87E"
      },
      "source": [
        "#we generate a list of combinations of 14 choose 4\n",
        "#each item in this list represents a possible combination that can be drawn on lottery night\n",
        "#one combination is left unassigned to a team, this combination is generally is 11-12-13-14\n",
        "def combinations_creator(simulation_type):\n",
        "    if (simulation_type) == 'r' or simulation_type == 'R':\n",
        "        ball_combinations = combinations([1, 2, 3, 4, 5, 6, 7, 8, 9, 10, 11, 12, 13, 14], 4)\n",
        "        ball_combinations = list(ball_combinations)\n",
        "        excluded_combination = (11, 12, 13, 14)\n",
        "        return ball_combinations, excluded_combination\n",
        "    else:\n",
        "        return None #this will change for the wild-card team case"
      ],
      "execution_count": 5,
      "outputs": []
    },
    {
      "cell_type": "markdown",
      "metadata": {
        "id": "kh3EHV_qrEoH"
      },
      "source": [
        "## **Odds**\n",
        "\n",
        "The next step in our NBA Draft Lottery simulation is to create and assign all the teams in the lottery their odds based on their seed"
      ]
    },
    {
      "cell_type": "code",
      "metadata": {
        "id": "zciaTOH5qsRT"
      },
      "source": [
        "#each team is given their respective odds based on their position in the standings \n",
        "#we generate an array containing all the odds of each team\n",
        "#these odds represent the team's chances of obtaining the number 1 pick in the NBA Draft\n",
        "#the teams with the higher odds are lower seeded teams, and the ones with lower odds are better teams\n",
        "def odds_creator(simulation_type):\n",
        "    if (simulation_type) == 'r' or simulation_type == 'R':\n",
        "        rockets_odds = 0.14\n",
        "        timberwolves_odds = 0.14\n",
        "        pistons_odds = 0.14\n",
        "        magic_odds = 0.125\n",
        "        thunder_odds = 0.105\n",
        "        cavaliers_odds = 0.09\n",
        "        kings_odds = 0.075\n",
        "        raptors_odds = 0.06\n",
        "        bulls_odds = 0.038\n",
        "        wizards_odds = 0.037\n",
        "        pelicans_odds = 0.02\n",
        "        pacers_odds = 0.015\n",
        "        warriors_odds = 0.008\n",
        "        spurs_odds = 0.007\n",
        "        odds_dictionary = {'Houston Rockets': rockets_odds, 'Minnesota Timberwolves': timberwolves_odds, 'Detroit Pistons': pistons_odds, 'Orlando Magic': magic_odds, \n",
        "                      'Oklahoma City Thunder': thunder_odds, 'Cleveland Cavaliers': cavaliers_odds, 'Sacramento Kings': kings_odds, 'Toronto Raptors': raptors_odds, 'Chicago Bulls': bulls_odds, \n",
        "                      'Washington Wizards': wizards_odds, 'New Orleans Pelicans': pelicans_odds, 'Indiana Pacers': pacers_odds, 'Golden State Warriors': warriors_odds, 'San Antonio Spurs': spurs_odds}\n",
        "        return odds_dictionary\n",
        "    else:\n",
        "        return None #fill this in for wild card later"
      ],
      "execution_count": 9,
      "outputs": []
    },
    {
      "cell_type": "code",
      "metadata": {
        "id": "dsI8ncVNrgFY"
      },
      "source": [
        "#we temporarily remove the unassigned ping pong ball from the list of ping pong ball combinations and re-assign it back after\n",
        "#we first generate 1000 random numbers from 0 through 1000\n",
        "#we assign each team the appropriate number of combinations based on their odds\n",
        "def odds_assigner(ping_pong_combinations, discarded_combination, odds_dict): \n",
        "    ping_pong_combinations.remove(discarded_combination)\n",
        "    print(\"The number of the ping pong ball combinations is: \", len(ping_pong_combinations))\n",
        "    random_indices = random.sample(range(len(ping_pong_combinations)), 1000)\n",
        "    random_indices_length = len(random_indices)\n",
        "    print(\"The length of our random indices array is: \", random_indices_length)\n",
        "    combinations_dictionary = {}\n",
        "    for i in odds_dict.keys():\n",
        "      sample = int(odds_dict[i] * random_indices_length)\n",
        "      draw = random.sample(random_indices, sample)\n",
        "      for j in draw:\n",
        "        if draw[0] == j:\n",
        "          combinations_dictionary[i] = [ping_pong_combinations[j]]\n",
        "        else:\n",
        "          combinations_dictionary[i].append(ping_pong_combinations[j])\n",
        "        random_indices.remove(j)\n",
        "    ping_pong_combinations.append(discarded_combination)\n",
        "    return combinations_dictionary"
      ],
      "execution_count": 10,
      "outputs": []
    },
    {
      "cell_type": "markdown",
      "metadata": {
        "id": "R6xUKmOFtlwW"
      },
      "source": [
        "## **Ball Drawing**\n",
        "\n",
        "Now, we simulate the drawing of the balls themselves. The way this is done in the NBA Draft Lottery is that the ping-pong machine with all 14 balls numbered 1-14 is spun for 20 seconds, then a ball is drawn, then it is spun for 10 seconds, then another ball is drawn, then it is spun for another 10 seconds, then another ball is drawn, and then it is spun for another 10 seconds, and the last ball is drawn. These four balls make up a four number combination"
      ]
    },
    {
      "cell_type": "code",
      "metadata": {
        "id": "7-v5X1NZr24E"
      },
      "source": [
        "#in order to simulate the selection of the balls, we first create a list of numbers from 1-15\n",
        "#then, we \"mix\" the balls for 1/10,000 of the time they are mixed in the actual NBA Draft Lottery\n",
        "#and during this time, we shuffle the list; after this, we randomly select a number from the list \n",
        "#and this number represents the first ball drawn (it is then removed from the list and the process is repeated until 4 balls are drawn)\n",
        "def ball_combination_picker():\n",
        "    ping_pong_balls = list(range(1, 15))\n",
        "    number_of_balls_picked = 0\n",
        "    ball_combination = []\n",
        "    \n",
        "    while number_of_balls_picked < 4:\n",
        "      number_of_balls_picked += 1\n",
        "      start = time.time()\n",
        "      time.time()\n",
        "      elapsed = 0\n",
        "\n",
        "      if number_of_balls_picked == 1:\n",
        "        mixing_seconds = 0.002\n",
        "      else:\n",
        "        mixing_seconds = 0.001\n",
        "\n",
        "      while elapsed < mixing_seconds:\n",
        "        random.shuffle(ping_pong_balls)\n",
        "        elapsed = time.time() - start\n",
        "        print(\"Shuffling ping pong balls; \", elapsed, \"seconds elapsed...\")\n",
        "        time.sleep(.001)  \n",
        "      chosen_ball = random.choice(ping_pong_balls)\n",
        "      print(\"The chosen ball is: \", chosen_ball)\n",
        "      ball_combination.append(chosen_ball)\n",
        "      ping_pong_balls.remove(chosen_ball)\n",
        "\n",
        "    return ball_combination"
      ],
      "execution_count": 18,
      "outputs": []
    },
    {
      "cell_type": "code",
      "metadata": {
        "id": "aIBLGHwS1Aaf"
      },
      "source": [
        ""
      ],
      "execution_count": null,
      "outputs": []
    }
  ]
}