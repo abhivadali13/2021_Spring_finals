{
  "nbformat": 4,
  "nbformat_minor": 0,
  "metadata": {
    "colab": {
      "name": "vadali-abhi-nbadraftlottery-montecarlosimulation.ipynb",
      "provenance": [],
      "authorship_tag": "ABX9TyP1GsqQcDGZp7muQQl1Nvwd",
      "include_colab_link": true
    },
    "kernelspec": {
      "name": "python3",
      "display_name": "Python 3"
    },
    "language_info": {
      "name": "python"
    }
  },
  "cells": [
    {
      "cell_type": "markdown",
      "metadata": {
        "id": "view-in-github",
        "colab_type": "text"
      },
      "source": [
        "<a href=\"https://colab.research.google.com/github/abhivadali13/2021_Spring_finals/blob/main/vadali_abhi_nbadraftlottery_montecarlosimulation.ipynb\" target=\"_parent\"><img src=\"https://colab.research.google.com/assets/colab-badge.svg\" alt=\"Open In Colab\"/></a>"
      ]
    },
    {
      "cell_type": "markdown",
      "metadata": {
        "id": "iHW3Cbr-peQV"
      },
      "source": [
        "IS597PR Final Projects – Spring 2021\n",
        "\n",
        "Due Dates: \n",
        "\n",
        "By Apr 2 = proposal in Moodle forum; Presentations in class or pre-recorded Apr26 & May 3\n",
        "along with draft-stage completion; Peer voting on projects open May 3-5; May 10 @ noon=All finalized\n",
        "files in GitHub for grading.\n",
        "\n",
        "Overview and High-Level Requirements:\n",
        "Many previous students have done nice work, of which they and I were proud. In a few cases, their\n",
        "projects and this course directly helped them get a job. You have an even wider range of choices\n",
        "available than most earlier semesters, so just avoid the pitfalls, apply yourselves the best you can and\n",
        "try to have some fun with it.\n",
        "1. You may choose to work as teams of 1, 2, or 3 students. Multi-member teams must clearly show\n",
        "collaboration from every member and are expected to perform at a proportionally-increased level\n",
        "of complexity, sophistication, depth, and/or scope to earn a high grade. Projects will be evaluated\n",
        "and graded as a teamwork product. You must work together, and hold each other accountable for\n",
        "contributions, quality, and ethical behavior. If there’s a problem early on (such as someone insists\n",
        "on plagiarizing, notify the instructor immediately).\n",
        "2. Select from one of these TYPES of analytics projects to implement in Python:\n",
        "\n",
        "  I. Your original Monte Carlo simulation\n",
        "\n",
        "3. Do not choose a statistical Machine Learning-focused project. Enroll in Machine Learning Team\n",
        "Projects if that interests you. Thus, packages such as sklearn, PyTorch and TensorFlow and similar\n",
        "should not be used here. NLP-focused projects are also out of scope.\n",
        "4. You must submit your original unique work, created specifically for 597PR. If the project is related\n",
        "to work you did earlier or are now doing for any other course or a job, then you must get prior\n",
        "written approval from all the relevant instructors and the supervisor. Not doing so is subject to\n",
        "sanctions per the Student Code.\n",
        "5. PROPOSAL Stage. Post your summary into Moodle’s “Final Project Topic Proposals” forum. See\n",
        "expected information there.\n",
        "6. CITE ALL YOUR SOURCES! Any citation style is fine, but make sure you do it and do so continuously,\n",
        "not just at the very end. Students who have used code or other material without indicating its true\n",
        "source AND clearly delineating which parts are not original will be reported to the iSchool & UI\n",
        "Grad College through FAIR. If the review confirms plagiarism, the sanction is reduced grade\n",
        "(dependent on scope) with a course grade of F for significant cases, regardless of your previous\n",
        "scores. \n",
        "7. Unlike all other assignments in 597PR, you are allowed and expected to openly publish your unique\n",
        "project work. You may consider it part of your student portfolio, link it from resume, etc. Typically,\n",
        "this is done on Github.com since you’ll be committing there as work proceeds. Make sure\n",
        "everything you put there is work you’ll be proud of. At every commit, you should be verifying\n",
        "citations for all code, data, etc. Remember every commit is a “version” of the project and is public.\n",
        "It is expected to be a FORK from here: https://github.com/iSchool-597PR/2021Spring_finals\n",
        "8. Draft Stage & Peer Reviews: The program and documentation should be sufficiently operational for\n",
        "meaningful and beneficial peer code review, but does not have to be 100% finished. Make sure\n",
        "your GitHub repository is up to date with all the work you’ve done so far (code, documentation,\n",
        "example outputs). It’s okay if there are some final scenario explorations or even minor flaws left to\n",
        "resolve in your project at this stage, but you want constructive feedback from others. All students\n",
        "will also be submitting evaluations about other teams’ projects, details will be given in class.\n",
        "9. Presentations: You will create and deliver a presentation to the class (either live in Zoom or as prerecorded video in Illinois MediaSpace) that summarizes your project’s purpose, hypotheses, design\n",
        "reasoning, and results so far, possibly with a quick demo.\n",
        "10. Final submission expectations:\n",
        " Edit your README.md to create a good introduction and overview of the project, written\n",
        "with new visitors to your repository in mind. Summarize the conclusions you came up with,\n",
        "including how results are either supportive of or refute your hypotheses. You can embed\n",
        "images into the README file, if that is relevant.\n",
        " Use the “Factors in Code Quality and Code Reviews” like a checklist. Apply as many of the\n",
        "skills we’ve discussed this semester as applicable, to create the best quality program you\n",
        "can. Example expectations:\n",
        "i. Doctests and/or pyunit tests: 1-person team minimum 30% actual test coverage; 2-\n",
        "person minimum 50% actual test coverage; (3-person minimum 80% actual coverage\n",
        "AND use Travis-CI or GitHub Actions to automate the test suite during your\n",
        "development, not just after it's complete).\n",
        "ii. All functions, (methods included) need complete Docstrings. 1-person=minimum 4\n",
        "functions; 2-person=7+ functions; 3-person= 10+ functions\n",
        "iii. 3-person teams also should incorporate one of these efficiency techniques that will\n",
        "be discussed in class: Selective compilation (e.g. Numba or Cython); and/or parallel\n",
        "processing.\n",
        " Consider each hypothesis or alternative situation you proposed to investigate (you may\n",
        "have added more after feedback). Your program code should be able to run the simulation\n",
        "for all of the hypotheses just by changing top-level parameter values and/or through using\n",
        "different input data files -- do not hard-code such configuration aspects into the functions\n",
        "themselves"
      ]
    },
    {
      "cell_type": "markdown",
      "metadata": {
        "id": "ObyyWU8ApiU0"
      },
      "source": [
        "***(Type I projects) Specifics for Monte Carlo Simulations:***\n",
        "\n",
        " Design your own scenario -- make certain your simulation is original in some way(s).\n",
        " You can simulate an engineering or manufacturing problem, business/management\n",
        "situation, (certain types of) human behaviors, physical phenomena, or a game. To\n",
        "encourage original thinking, AVOID scenarios that have been done many times an\n",
        "Page 3\n",
        "discussed in class, such as : a \"random walk\" of stock prices, stock options, or similarly\n",
        "naïve financial “predictions”; a traffic simulation with just a few intersections or only one\n",
        "road; parking lots or parking meters; customer seating/dining at a restaurant or serving\n",
        "them at a counter; the games Tic-tac-toe, four*-in-a-row, Go-moku, chutes and ladders,\n",
        "Monopoly, Rock-Paper-Scissors, Blackjack, Poker. If you want to model a sports game or\n",
        "tournament, ask first, too many of these have been done already.\n",
        "\n",
        "You must have several well-chosen random variables in the model, to explore a variety of\n",
        "possible outcomes and derive the non-obvious probabilities of the overall model. Make\n",
        "sure you think carefully to choose appropriate ranges of values and a sensible distribution\n",
        "type for every randomized aspect. For example, if you simulate “number of swimmers in\n",
        "the pool” at each point in time as a uniform distribution, it’s wrong. If you simulate the\n",
        "individual finish times of all runners in a marathon as uniform, triangular, or even normal,\n",
        "it’s wrong. We’ll discuss this in class.\n",
        "\n",
        "  - i. 1-person teams must have at least 2 different kinds of randomized variables plus the\n",
        "deterministic aspects and control variables in the model. Most interesting\n",
        "simulations require more.\n",
        "  - ii. 2-person teams must have at least 3 different kinds …\n",
        "  - iii. 3-person teams must have at least 4 different kinds …\n",
        "\n",
        "Controls & Experiments: 1-person teams must have at least 1 hypothesis to test by running\n",
        "an experiment using the simulation in different modes to compare the results. Multi-person\n",
        "teams are expected to go further, typically testing multiple hypotheses with corresponding\n",
        "experiments, but variations can have other manifestations.\n",
        "\n",
        "If there is any relevant public data available, try to incorporate real data as part of your\n",
        "simulation model. For example, any useful sports simulation must use some real\n",
        "performance statistics about players and/or teams, so its randomized variables can be\n",
        "sampled from realistic ranges & distributions. If data you seek is not in downloadable form,\n",
        "you can still research the scenario to make realistic estimate"
      ]
    },
    {
      "cell_type": "markdown",
      "metadata": {
        "id": "i6CAAcPzrB8q"
      },
      "source": [
        "Source List:\n",
        "- https://www.geeksforgeeks.org/permutation-and-combination-in-python/\n",
        "- https://pypi.org/project/nba-api/\n",
        "- https://github.com/swar/nba_api/blob/master/docs/examples/Basics.ipynb\n",
        "- https://stackoverflow.com/questions/35532498/animation-in-ipython-notebook\n",
        "- https://pynative.com/python-random-randrange/#:~:text=Use%20randint()%20Generate%20random,8%20%2C9%2C%2010%5D\n",
        "- https://machinelearningmastery.com/discrete-probability-distributions-for-machine-learning/\n",
        "- https://www.kite.com/python/answers/how-to-rename-a-dictionary-key-in-python#:~:text=Use%20dict.,dictionary%20key%20to%20this%20value.\n",
        "- https://www.kite.com/python/answers/how-to-change-the-seaborn-plot-figure-size-in-python#:~:text=Set%20the%20figsize%20argument%20in,pyplot.&text=Save%20the%20result%20to%20a,to%20change%20the%20figure%20size."
      ]
    },
    {
      "cell_type": "markdown",
      "metadata": {
        "id": "FKlOMX_Jpne9"
      },
      "source": [
        "# **NBA Draft Lottery: A Monte Carlo Simulation**"
      ]
    },
    {
      "cell_type": "markdown",
      "metadata": {
        "id": "4HTZjXs9psvb"
      },
      "source": [
        "## **Initial Set Up**"
      ]
    },
    {
      "cell_type": "code",
      "metadata": {
        "id": "szkLOapNpfi2"
      },
      "source": [
        "#importing the required libraries\n",
        "import os\n",
        "import pandas as pd\n",
        "import numpy as np\n",
        "import seaborn as sns\n",
        "import matplotlib.pyplot as plt\n",
        "from itertools import combinations, permutations\n",
        "from collections import Counter\n",
        "import random\n",
        "import requests\n",
        "import warnings\n",
        "import time\n",
        "\n",
        "from matplotlib import rc, animation\n",
        "rc('animation', html='html5')\n",
        "from ipywidgets import Image\n",
        "from IPython import display\n",
        "import scipy.stats as ss\n",
        "from numpy.random import multinomial\n",
        "from google.colab import drive"
      ],
      "execution_count": 73,
      "outputs": []
    },
    {
      "cell_type": "code",
      "metadata": {
        "id": "pQCDiEAXpyw_"
      },
      "source": [
        "#mounting my drive on Google Colab\n",
        "drive.mount('/content/drive')"
      ],
      "execution_count": null,
      "outputs": []
    },
    {
      "cell_type": "code",
      "metadata": {
        "id": "kTyHfHiep1J3"
      },
      "source": [
        "#cd'ing into the folder for this project\n",
        "%cd \"/content/drive/MyDrive/IS 597PR: Programming for Analytics and Data Processing/Final Project\""
      ],
      "execution_count": null,
      "outputs": []
    },
    {
      "cell_type": "markdown",
      "metadata": {
        "id": "RzFoOJ39qI1u"
      },
      "source": [
        "## **Ping Pong Ball Combinations**\n",
        "\n",
        "The first step in our NBA Draft Lottery simulation is to create all the combinations of 4 balls selected from balls numbered 1-14"
      ]
    },
    {
      "cell_type": "code",
      "metadata": {
        "id": "cMdEMxypp87E"
      },
      "source": [
        "#we generate a list of combinations of 14 choose 4\n",
        "#each item in this list represents a possible combination that can be drawn on lottery night\n",
        "#one combination is left unassigned to a team, this combination is generally is 11-12-13-14\n",
        "def combinations_creator(simulation_type):\n",
        "    if (simulation_type) == 'r' or simulation_type == 'R':\n",
        "        ball_combinations = combinations([1, 2, 3, 4, 5, 6, 7, 8, 9, 10, 11, 12, 13, 14], 4)\n",
        "        ball_combinations = list(ball_combinations)\n",
        "        excluded_combination = (11, 12, 13, 14)\n",
        "        return ball_combinations, excluded_combination\n",
        "    else:\n",
        "        return None, None #this will change for the wild-card team case"
      ],
      "execution_count": 80,
      "outputs": []
    },
    {
      "cell_type": "markdown",
      "metadata": {
        "id": "kh3EHV_qrEoH"
      },
      "source": [
        "## **Odds**\n",
        "\n",
        "The next step in our NBA Draft Lottery simulation is to create and assign all the teams in the lottery their odds based on their seed"
      ]
    },
    {
      "cell_type": "code",
      "metadata": {
        "id": "zciaTOH5qsRT"
      },
      "source": [
        "#each team is given their respective odds based on their position in the standings \n",
        "#we generate an array containing all the odds of each team\n",
        "#these odds represent the team's chances of obtaining the number 1 pick in the NBA Draft\n",
        "#the teams with the higher odds are lower seeded teams, and the ones with lower odds are better teams\n",
        "def odds_creator(simulation_type):\n",
        "    if (simulation_type) == 'r' or simulation_type == 'R':\n",
        "        rockets_odds = 0.14\n",
        "        timberwolves_odds = 0.14\n",
        "        pistons_odds = 0.14\n",
        "        magic_odds = 0.125\n",
        "        thunder_odds = 0.105\n",
        "        cavaliers_odds = 0.09\n",
        "        kings_odds = 0.075\n",
        "        raptors_odds = 0.06\n",
        "        bulls_odds = 0.045\n",
        "        wizards_odds = 0.03\n",
        "        pelicans_odds = 0.02\n",
        "        pacers_odds = 0.015\n",
        "        warriors_odds = 0.01\n",
        "        spurs_odds = 0.005\n",
        "        \n",
        "    else:\n",
        "        rockets_odds = [0.14, 0.134, 0.127, 0.12, 0.479, 0, 0, 0, 0, 0, 0, 0, 0, 0]\n",
        "        timberwolves_odds = [0.14, 0.134, 0.127, 0.120, 0.278, 0.20, 0, 0, 0, 0, 0, 0, 0, 0]\n",
        "        pistons_odds = [0.14, 0.134, 0.127, 0.120, 0.148, 0.260, 0.07, 0, 0, 0, 0, 0, 0, 0]\n",
        "        magic_odds = [0.125, 0.122, 0.119, 0.115, 0.072, 0.257, 0.167, 0.022, 0, 0, 0, 0, 0, 0]\n",
        "        thunder_odds = [0.105, 0.105, 0.106, 0.105, 0.022, 0.196, 0.267, 0.087, 0.006, 0, 0, 0, 0, 0]\n",
        "        cavaliers_odds = [0.09, 0.092, 0.094, 0.096, 0, 0.086, 0.297, 0.206, 0.037, 0.002, 0, 0, 0, 0]\t\t\n",
        "        kings_odds = [0.075, 0.078, 0.081, 0.085, 0, 0, 0.197, 0.341, 0.129, 0.013, 0, 0, 0, 0]\n",
        "        raptors_odds = [0.06, 0.063, 0.067, 0.072, 0, 0, 0, 0.345, 0.321, 0.067, 0.004, 0, 0, 0]\n",
        "        bulls_odds = [0.045, 0.048, 0.052, 0.057, 0, 0, 0, 0, 0.507, 0.259, 0.03, 0.001, 0, 0]\n",
        "        wizards_odds = [0.03, 0.033, 0.036, 0.04, 0, 0, 0, 0, 0, 0.659, 0.190, 0.012, 0, 0]\n",
        "        pelicans_odds = [0.02, 0.022, 0.024, 0.028, 0, 0, 0, 0, 0, 0, 0.776, 0.126, 0.004, 0]\n",
        "        pacers_odds = [0.015, 0.017, 0.019, 0.021, 0, 0, 0, 0, 0, 0, 0, 0.861, 0.067, 0.001]\n",
        "        warriors_odds = [0.01, 0.011, 0.012, 0.014, 0, 0, 0, 0, 0, 0, 0, 0, 0.929, 0.023]\n",
        "        spurs_odds = [0.005, 0.006, 0.006, 0.007, 0, 0, 0, 0, 0, 0, 0, 0, 0, 0.976]\n",
        "\n",
        "    odds_dictionary = {'Houston Rockets': rockets_odds, 'Minnesota Timberwolves': timberwolves_odds, 'Detroit Pistons': pistons_odds, 'Orlando Magic': magic_odds, 'Oklahoma City Thunder': thunder_odds, 'Cleveland Cavaliers': cavaliers_odds, 'Sacramento Kings': kings_odds, 'Toronto Raptors': raptors_odds, 'Chicago Bulls': bulls_odds, \n",
        "                      'Washington Wizards': wizards_odds, 'New Orleans Pelicans': pelicans_odds, 'Indiana Pacers': pacers_odds, 'Golden State Warriors': warriors_odds, 'San Antonio Spurs': spurs_odds}\n",
        "    return odds_dictionary"
      ],
      "execution_count": 107,
      "outputs": []
    },
    {
      "cell_type": "code",
      "metadata": {
        "id": "dsI8ncVNrgFY"
      },
      "source": [
        "#we temporarily remove the unassigned ping pong ball from the list of ping pong ball combinations and re-assign it back after\n",
        "#we first generate 1000 random numbers from 0 through 1000\n",
        "#we assign each team the appropriate number of combinations based on their odds\n",
        "def odds_assigner(ping_pong_combinations, discarded_combination, odds_dict): \n",
        "    ping_pong_combinations.remove(discarded_combination)\n",
        "    random_indices = random.sample(range(len(ping_pong_combinations)), 1000)\n",
        "    random_indices_length = len(random_indices)\n",
        "    combinations_dictionary = {}\n",
        "    for i in odds_dict.keys():\n",
        "      sample = int(odds_dict[i] * random_indices_length)\n",
        "      draw = random.sample(random_indices, sample)\n",
        "      for j in draw:\n",
        "        if draw[0] == j:\n",
        "          combinations_dictionary[i] = [ping_pong_combinations[j]]\n",
        "        else:\n",
        "          combinations_dictionary[i].append(ping_pong_combinations[j])\n",
        "        random_indices.remove(j)\n",
        "    ping_pong_combinations.append(discarded_combination)\n",
        "    return combinations_dictionary"
      ],
      "execution_count": 38,
      "outputs": []
    },
    {
      "cell_type": "markdown",
      "metadata": {
        "id": "R6xUKmOFtlwW"
      },
      "source": [
        "## **Ball Drawing**\n",
        "\n",
        "Now, we simulate the drawing of the balls themselves. The way this is done in the NBA Draft Lottery is that the ping-pong machine with all 14 balls numbered 1-14 is spun for 20 seconds, then a ball is drawn, then it is spun for 10 seconds, then another ball is drawn, then it is spun for another 10 seconds, then another ball is drawn, and then it is spun for another 10 seconds, and the last ball is drawn. These four balls make up a four number combination.\n",
        "\n",
        "Then, whichever team has the given combination is found and assigned the given pick. "
      ]
    },
    {
      "cell_type": "code",
      "metadata": {
        "id": "7-v5X1NZr24E"
      },
      "source": [
        "#in order to simulate the selection of the balls, we first create a list of numbers from 1-15\n",
        "#then, we \"mix\" the balls for 1/100000 of the time they are mixed in the actual NBA Draft Lottery\n",
        "#and during this time, we shuffle the list; after this, we randomly select a number from the list \n",
        "#and this number represents the first ball drawn (it is then removed from the list and the process is repeated until 4 balls are drawn)\n",
        "def ball_combination_picker():\n",
        "    ping_pong_balls = list(range(1, 15))\n",
        "    number_of_balls_picked = 0\n",
        "    ball_combination = []\n",
        "    \n",
        "    while number_of_balls_picked < 4:\n",
        "      number_of_balls_picked += 1\n",
        "      start = time.time()\n",
        "      time.time()\n",
        "      elapsed = 0\n",
        "\n",
        "      if number_of_balls_picked == 1:\n",
        "        mixing_seconds = 0.0002\n",
        "      else:\n",
        "        mixing_seconds = 0.0001\n",
        "\n",
        "      while elapsed < mixing_seconds:\n",
        "        random.shuffle(ping_pong_balls)\n",
        "        elapsed = time.time() - start\n",
        "        print(\"Shuffling ping pong balls; \", elapsed, \"seconds elapsed...\")\n",
        "        time.sleep(.0001)  \n",
        "      chosen_ball = random.choice(ping_pong_balls)\n",
        "      print(\"The chosen ball is: \", chosen_ball)\n",
        "      ball_combination.append(chosen_ball)\n",
        "      ping_pong_balls.remove(chosen_ball)\n",
        "\n",
        "    return ball_combination"
      ],
      "execution_count": 47,
      "outputs": []
    },
    {
      "cell_type": "code",
      "metadata": {
        "id": "W3udc_GK1p_k"
      },
      "source": [
        "#once the combination of balls is drawn, we must check which team actually has been assigned this combination\n",
        "#in order to do this, we look at all the permutations of the ball combination and compare it to the combinations\n",
        "#assigned to each team and the unassigned combination to see which one the combination belongs to \n",
        "def team_selector(four_ball_combination, displaced_combination, teams_combinations):\n",
        "    ball_combinations = list(permutations(four_ball_combination, 4))\n",
        "    unassigned_four_ball_combinations = list(permutations(displaced_combination, 4))\n",
        "    for i in ball_combinations:\n",
        "        if i in unassigned_four_ball_combinations:\n",
        "          return True\n",
        "\n",
        "        for j in teams_combinations:\n",
        "            if i in teams_combinations[j]:\n",
        "                return j"
      ],
      "execution_count": 25,
      "outputs": []
    },
    {
      "cell_type": "markdown",
      "metadata": {
        "id": "lGbGR0lcNKU9"
      },
      "source": [
        "## **Lottery Simulation**\n",
        "\n",
        "Simulating one round of the NBA Draft Lottery. Drawing different ball combinations until the teams who have the first four picks of the NBA Draft are decided, and then filling out the rest of the lottery in reverse standings order."
      ]
    },
    {
      "cell_type": "code",
      "metadata": {
        "id": "YCkbZXWHNTHm"
      },
      "source": [
        "#this simulator calls on the ball_combination_picker() and team_selector() methods to run a full simulation of one NBA Draft Lottery\n",
        "#based on the first four teams that are assigned picks, the simulator goes in order based on a list of the teams in order of odds that\n",
        "#are remaining and assigns them the picks 5-12\n",
        "def lottery_results(dictionary_combinations, combination_unassigned):\n",
        "    team_aggregate_stats = {}\n",
        "    team_order = 1\n",
        "    lottery_order = list(dictionary_combinations.keys())\n",
        "    while team_order <= 4:\n",
        "        ball_combination = ball_combination_picker()\n",
        "        team = team_selector(ball_combination, combination_unassigned, dictionary_combinations)\n",
        "        print()\n",
        "\n",
        "        if team in lottery_order:\n",
        "            print(\"The number #\", team_order, \" pick in the 2021 NBA Draft goes to: \", team)\n",
        "            if team not in team_aggregate_stats:\n",
        "                team_aggregate_stats[team] = [team_order]\n",
        "            else:\n",
        "                team_aggregate_stats[team].append(team_order)\n",
        "            print()\n",
        "            lottery_order.remove(team)\n",
        "            team_order += 1\n",
        "\n",
        "    pick_number = 5\n",
        "    print()\n",
        "    print(\"Picks 5-14 are in this order: \")\n",
        "    for j in lottery_order:\n",
        "        if pick_number != 14:\n",
        "          print(j + \", \")\n",
        "        else:\n",
        "          print(j)\n",
        "\n",
        "        if j not in team_aggregate_stats:\n",
        "            team_aggregate_stats[j] = [pick_number]\n",
        "        else:\n",
        "            team_aggregate_stats[j].append(pick_number)\n",
        "        pick_number += 1\n",
        "    print('___________________')\n",
        "    return team_aggregate_stats"
      ],
      "execution_count": 42,
      "outputs": []
    },
    {
      "cell_type": "markdown",
      "metadata": {
        "id": "mnKSMSdIa7vq"
      },
      "source": [
        "## **Formatting and Plotting the Results of the simulation**\n",
        "\n",
        "Taking in the final aggregate results of which picks each team got and how many times in the simulation and obtaining a visual view of this."
      ]
    },
    {
      "cell_type": "code",
      "metadata": {
        "id": "lud4pyd0b4PI"
      },
      "source": [
        "#uses the Counter function to count the number of times each team got each pick\n",
        "#essentially cleans up the aggregate data into a more digestible form\n",
        "def team_stats_calculator(team_stats):\n",
        "    formatted_team_stats = {}\n",
        "    for i in team_stats:\n",
        "        formatted_team_stats[i] = Counter(team_stats[i])\n",
        "    return formatted_team_stats"
      ],
      "execution_count": 51,
      "outputs": []
    },
    {
      "cell_type": "code",
      "metadata": {
        "id": "2jg1HvYza6Fw"
      },
      "source": [
        "#creates two lists, one that contains each team's names, and one that contains\n",
        "#their associated picks from the simulation...these are used to generate a plot\n",
        "#that provides a visual understanding of the simulation\n",
        "def team_data_plotter(team_aggregate_data):\n",
        "\n",
        "  #renaming all the keys so that they appear more easily readable on the plot\n",
        "  new_key = \"Kings\"\n",
        "  old_key = \"Sacramento Kings\"\n",
        "  team_aggregate_data[new_key] = team_aggregate_data.pop(old_key)\n",
        "\n",
        "  new_key = \"Pistons\"\n",
        "  old_key = \"Detroit Pistons\"\n",
        "  team_aggregate_data[new_key] = team_aggregate_data.pop(old_key)\n",
        "\n",
        "  new_key = \"Cavs\"\n",
        "  old_key = \"Cleveland Cavaliers\"\n",
        "  team_aggregate_data[new_key] = team_aggregate_data.pop(old_key)\n",
        "\n",
        "  new_key = \"Rockets\"\n",
        "  old_key = \"Houston Rockets\"\n",
        "  team_aggregate_data[new_key] = team_aggregate_data.pop(old_key)\n",
        "\n",
        "  new_key = \"Wolves\"\n",
        "  old_key = \"Minnesota Timberwolves\"\n",
        "  team_aggregate_data[new_key] = team_aggregate_data.pop(old_key)\n",
        "\n",
        "  new_key = \"Magic\"\n",
        "  old_key = \"Orlando Magic\"\n",
        "  team_aggregate_data[new_key] = team_aggregate_data.pop(old_key)\n",
        "\n",
        "  new_key = \"Thunder\"\n",
        "  old_key = \"Oklahoma City Thunder\"\n",
        "  team_aggregate_data[new_key] = team_aggregate_data.pop(old_key)\n",
        "\n",
        "  new_key = \"Raptors\"\n",
        "  old_key = \"Toronto Raptors\"\n",
        "  team_aggregate_data[new_key] = team_aggregate_data.pop(old_key)\n",
        "\n",
        "  new_key = \"Bulls\"\n",
        "  old_key = \"Chicago Bulls\"\n",
        "  team_aggregate_data[new_key] = team_aggregate_data.pop(old_key)\n",
        "\n",
        "  new_key = \"Wizards\"\n",
        "  old_key = \"Washington Wizards\"\n",
        "  team_aggregate_data[new_key] = team_aggregate_data.pop(old_key)\n",
        "\n",
        "  new_key = \"Pelicans\"\n",
        "  old_key = \"New Orleans Pelicans\"\n",
        "  team_aggregate_data[new_key] = team_aggregate_data.pop(old_key)\n",
        "\n",
        "  new_key = \"Pacers\"\n",
        "  old_key = \"Indiana Pacers\"\n",
        "  team_aggregate_data[new_key] = team_aggregate_data.pop(old_key)\n",
        "\n",
        "  new_key = \"Warriors\"\n",
        "  old_key = \"Golden State Warriors\"\n",
        "  team_aggregate_data[new_key] = team_aggregate_data.pop(old_key)\n",
        "\n",
        "  new_key = \"Spurs\"\n",
        "  old_key = \"San Antonio Spurs\"\n",
        "  team_aggregate_data[new_key] = team_aggregate_data.pop(old_key)\n",
        "\n",
        "\n",
        "  team_list = []\n",
        "  pick_list = []\n",
        "  for i in team_aggregate_data:\n",
        "    for j in team_aggregate_data[i].items():\n",
        "      k = 0\n",
        "      while k < int(j[1]):\n",
        "        team_list.append(i)\n",
        "        pick_list.append(j[0])\n",
        "        k += 1\n",
        "\n",
        "  fig_dims = (10, 10)\n",
        "  fig, ax = plt.subplots(figsize=fig_dims)\n",
        "  x = team_list\n",
        "  y = pick_list\n",
        "  print(\"The following plot summarizes our simulations of the NBA Draft Lottery: \")\n",
        "  print()\n",
        "  sns.stripplot(x = x, y = y, alpha=0.5,s=10,linewidth=1.0, jitter=True)"
      ],
      "execution_count": 67,
      "outputs": []
    },
    {
      "cell_type": "markdown",
      "metadata": {
        "id": "IywAL8l0mRTe"
      },
      "source": [
        "## **Running the simulation using a Multinomial Distribution**"
      ]
    },
    {
      "cell_type": "code",
      "metadata": {
        "id": "QEvj6xMvmcTd"
      },
      "source": [
        "def multinomial_simulator(odds, counter):\n",
        "  for i in odds:\n",
        "    simulations = multinomial(counter, odds[i])\n",
        "\n",
        "    for j in range(len(simulations)):\n",
        "      print(i + ' Pick %d: %d ' % (j+1, simulations[j]))\n",
        "    print()"
      ],
      "execution_count": 116,
      "outputs": []
    },
    {
      "cell_type": "markdown",
      "metadata": {
        "id": "z4aIrYPWLMv0"
      },
      "source": [
        "## **Running the simulation based on User Input**\n",
        "\n",
        "Based on given information, I will run a specific simulation the given number of times the user indicates."
      ]
    },
    {
      "cell_type": "code",
      "metadata": {
        "id": "1xTZccUhKXZW"
      },
      "source": [
        "#main section of code\n",
        "\n",
        "user_iterations = 1\n",
        "\n",
        "#handle user input here\n",
        "user_input = 'r'\n",
        "\n",
        "#handle gif here\n",
        "gif = 'nba_lottery.gif'\n",
        "file = open(gif , \"rb\")\n",
        "img = file.read()\n",
        "lottery_gif = Image(\n",
        "      value=img,\n",
        "      format='gif',\n",
        "      width=200,\n",
        "      height=200)\n",
        "\n",
        "aggregate_team_data = {}\n",
        "while user_iterations <= 100:\n",
        "    #handle lottery process here\n",
        "    print()\n",
        "    print(\"NBA DRAFT LOTTERY ITERATION: \", user_iterations)\n",
        "    print()\n",
        "    ping_pong_ball_combinations, unassigned_combination = combinations_creator(user_input)\n",
        "    team_odds = odds_creator(user_input)\n",
        "    if user_input == 'r':\n",
        "      team_combinations = odds_assigner(ping_pong_ball_combinations, unassigned_combination, team_odds)\n",
        "      display.display(lottery_gif) #start of lottery shuffling\n",
        "      print()\n",
        "      team_results = lottery_results(team_combinations, unassigned_combination)\n",
        "      if user_iterations == 1:\n",
        "          aggregate_team_data = team_results\n",
        "      else:\n",
        "          for i in aggregate_team_data:\n",
        "              aggregate_team_data[i] += team_results[i]\n",
        "              \n",
        "      user_iterations += 1\n",
        "\n",
        "    # elif user_input == 's':\n",
        "    #   count = 100\n",
        "    #   multinomial_simulator(team_odds, count)\n",
        "    #   user_iterations += 1\n",
        "\n",
        "print()\n",
        "team_counted_data = team_stats_calculator(aggregate_team_data)\n",
        "team_data_plotter(team_counted_data)"
      ],
      "execution_count": null,
      "outputs": []
    },
    {
      "cell_type": "code",
      "metadata": {
        "id": "FS5SUN3BA3-K"
      },
      "source": [
        ""
      ],
      "execution_count": null,
      "outputs": []
    }
  ]
}